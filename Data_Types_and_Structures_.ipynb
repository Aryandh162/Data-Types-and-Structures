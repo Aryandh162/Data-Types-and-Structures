{
  "nbformat": 4,
  "nbformat_minor": 0,
  "metadata": {
    "colab": {
      "provenance": []
    },
    "kernelspec": {
      "name": "python3",
      "display_name": "Python 3"
    },
    "language_info": {
      "name": "python"
    }
  },
  "cells": [
    {
      "cell_type": "markdown",
      "source": [
        "# Data Types and Structures Assignment\n",
        "\n"
      ],
      "metadata": {
        "id": "XqoVjpS4eTgR"
      }
    },
    {
      "cell_type": "markdown",
      "source": [
        "1. What are data structures, and why are they important?"
      ],
      "metadata": {
        "id": "wz-Pjy_zecdR"
      }
    },
    {
      "cell_type": "markdown",
      "source": [
        "=>  Data structure is a way of organizing, storing, and managing data in a\n",
        "    computer so that it can be accessed and used efficiently.Data structures are essential in computer science and programming for several crucial reasons:\n",
        "  * Efficient Data Management\n",
        "  * Code Reusability\n",
        "  * Algorithm Design\n",
        "  * System Performance\n"
      ],
      "metadata": {
        "id": "OsM_qKCxsmeT"
      }
    },
    {
      "cell_type": "markdown",
      "source": [
        "2. Explain the difference between mutable and immutable data types with examples"
      ],
      "metadata": {
        "id": "pWxZhM3dey3O"
      }
    },
    {
      "cell_type": "markdown",
      "source": [
        "=> Immutable data types are those whose values cannot be changed once they are\n",
        "    created. If you try to modify an immutable object, a new object is created instead. Common immutable data types in Python include, strings, tuples etc\n",
        "\n",
        "  Mutable data types are those whose values can be changed after they are created. Common mutable data types in Python include, lists, sets etc.\n",
        "\n"
      ],
      "metadata": {
        "id": "FXiLhnrottdQ"
      }
    },
    {
      "cell_type": "markdown",
      "source": [
        "3. What are the main differences between lists and tuples in Python?"
      ],
      "metadata": {
        "id": "yn2_t7ogexbb"
      }
    },
    {
      "cell_type": "markdown",
      "source": [
        "=> List is a container that contains different types of objects. In it, the\n",
        "    elements are separated by commas and stored within square brackets. Each element of a list has a unique position index, starting from 0 and list is mutable\n",
        "\n",
        "   Tuple is also similar to a list but it contains immutable objects and they are stored within parentheses. Those objects that cannot be modified by any means are called as immutable"
      ],
      "metadata": {
        "id": "-D0jep8FuYb1"
      }
    },
    {
      "cell_type": "markdown",
      "source": [
        "4.  Describe how dictionaries store data."
      ],
      "metadata": {
        "id": "e_Q1iLxle_pk"
      }
    },
    {
      "cell_type": "markdown",
      "source": [
        "=> Dictionaries are used to store data values in key:value pairs. A dictionary\n",
        "    is a collection which is ordered, changeable and do not allow duplicates."
      ],
      "metadata": {
        "id": "yhnGhp8ivEif"
      }
    },
    {
      "cell_type": "markdown",
      "source": [
        "5. Why might you use a set instead of a list in Python?"
      ],
      "metadata": {
        "id": "fMtkSeane-ae"
      }
    },
    {
      "cell_type": "markdown",
      "source": [
        "=> In Python, both sets and lists are used to store collections of elements but\n",
        "    they have key differences that make them suitable for different use cases. The main difference is that lists are ordered, meaning the order of elements is preserved and they can be accessed by their index while sets are unordered meaning they do not maintain the order of elements and automatically ensure all elements are unique."
      ],
      "metadata": {
        "id": "UYS8oZXevuu8"
      }
    },
    {
      "cell_type": "markdown",
      "source": [
        "6. What is a string in Python, and how is it different from a list?\n"
      ],
      "metadata": {
        "id": "JJY9sSOhfX4b"
      }
    },
    {
      "cell_type": "markdown",
      "source": [
        "=> Mutability:\n",
        "\n",
        "String: Immutable (cannot be changed after creation).\n",
        "\n",
        "List: Mutable (can be changed after creation).\n",
        "Data Types:\n",
        "\n",
        "String: Contains only characters.\n",
        "\n",
        "List: Can contain elements of different data types (integers, floats, strings, etc.).\n",
        "\n",
        "String: Typically used for text manipulation.\n",
        "\n",
        "List: Used for storing collections of items.\n",
        "\n",
        "String: Methods are focused on text processing.\n",
        "\n",
        "List: Methods are focused on list manipulation (adding, sorting elements etc.)"
      ],
      "metadata": {
        "id": "sY42pb3mv0_H"
      }
    },
    {
      "cell_type": "markdown",
      "source": [
        "7. How do tuples ensure data integrity in Python?\n"
      ],
      "metadata": {
        "id": "ANc5vDjRfnub"
      }
    },
    {
      "cell_type": "markdown",
      "source": [
        "=> Tuples in Python are a powerful tool for ensuring data integrity due to their immutable nature."
      ],
      "metadata": {
        "id": "yKxRZgYnwQwC"
      }
    },
    {
      "cell_type": "markdown",
      "source": [
        "8. What is a hash table, and how does it relate to dictionaries in Python?\n"
      ],
      "metadata": {
        "id": "DADq2F6tftkA"
      }
    },
    {
      "cell_type": "markdown",
      "source": [
        "=>  A Hash table is defined as a data structure used to insert, look up, and\n",
        "    remove key-value pairs quickly. It operates on the hashing concept, where each key is translated by a hash function into a distinct index in an array. The index functions as a storage location for the matching value. In simple words, it maps the keys with the value."
      ],
      "metadata": {
        "id": "3bW9Nd2Fwj9A"
      }
    },
    {
      "cell_type": "markdown",
      "source": [
        "9. Can lists contain different data types in Python?\n",
        "\n"
      ],
      "metadata": {
        "id": "PZPS8il4f0wd"
      }
    },
    {
      "cell_type": "markdown",
      "source": [
        "=> In Python, lists are incredibly versatile and can contain elements of different data types."
      ],
      "metadata": {
        "id": "jlP5yIQaw1HB"
      }
    },
    {
      "cell_type": "markdown",
      "source": [
        "10. Explain why strings are immutable in Python.\n"
      ],
      "metadata": {
        "id": "09vooVxIf87R"
      }
    },
    {
      "cell_type": "markdown",
      "source": [
        "=> String are immutable in Python, Because it not not be modified or we can add\n",
        "    more element after being created"
      ],
      "metadata": {
        "id": "AVKVYfDKxJB2"
      }
    },
    {
      "cell_type": "markdown",
      "source": [
        "11. What advantages do dictionaries offer over lists for certain tasks?\n"
      ],
      "metadata": {
        "id": "Wv6rX7aQgEf0"
      }
    },
    {
      "cell_type": "markdown",
      "source": [
        "=>  Dictionaries are for fast lookups, meaningful key-value associations, and\n",
        "    unordered data.\n",
        "    `Lists` are for ordered sequences of items.\n",
        "    Advantages of Dictionaries over Lists\n",
        "\n",
        "   * Efficient Lookups by Key:\n",
        "   * Meaningful Key-Value Associations:\n",
        "   * Unordered Data:\n",
        "   * Easy insertion and deletion:\n"
      ],
      "metadata": {
        "id": "LMgvFHUhxyH3"
      }
    },
    {
      "cell_type": "markdown",
      "source": [
        "12. Describe a scenario where using a tuple would be preferable over a list.\n"
      ],
      "metadata": {
        "id": "YfQ0hgjkgJuB"
      }
    },
    {
      "cell_type": "markdown",
      "source": [
        "=> Tuples are preferred over lists in the following cases:\n",
        "\n",
        "When we want to ensure that data is not changed accidentally. Tuples being immutable do not allow any changes in its data.\n",
        "When we want faster access to data that will not change as tuples are faster than lists.\n",
        "When we want to use the data as a key in a dictionary.\n",
        "When we want to use the data as an element of a set."
      ],
      "metadata": {
        "id": "l9mooCJRzR6p"
      }
    },
    {
      "cell_type": "markdown",
      "source": [
        "13. How do sets handle duplicate values in Python?\n"
      ],
      "metadata": {
        "id": "hSHn6plqgOfN"
      }
    },
    {
      "cell_type": "markdown",
      "source": [
        "=> In Python, sets are a collection type that automatically handle duplicate\n",
        "    values by ensuring that each element is unique. When you add elements to a set, any duplicate values are automatically removed."
      ],
      "metadata": {
        "id": "ok3W_Zshzinm"
      }
    },
    {
      "cell_type": "markdown",
      "source": [
        "14. How does the “in” keyword work differently for lists and dictionaries?\n"
      ],
      "metadata": {
        "id": "hFK1X9LRgUnj"
      }
    },
    {
      "cell_type": "markdown",
      "source": [
        "=> The in keyword works differently for lists and dictionaries, primarily\n",
        "    because of how these two data structures are organized internally.\n",
        "\n",
        "  `in` with Lists\n",
        "\n",
        "    What it does: When you use in with a list, you're essentially asking: \"Is this value present in the list?\"\n",
        "    How it works (internally): Python performs a linear search through the list. It starts at the beginning of the list and checks each element one by one to see if it matches the value you're looking for.\n",
        "    Time complexity: Because of this linear search, the time it takes to check for an element grows proportionally to the size of the list. This is called O(n) time complexity, where 'n' is the number of elements in the list.\n",
        "    Implication: As the list gets longer, checking for an element using in gets slower.\n",
        "\n",
        "  `in`with Dictionaries\n",
        "\n",
        "    What it does: When you use in with a dictionary, you're asking: \"Is this key present in the dictionary?\"\n",
        "    How it works (internally): Dictionaries are implemented as hash tables. This is a special data structure that allows for very fast lookups. Instead of searching linearly, Python calculates a \"hash\" value for the key, which tells it where to look for that key in the dictionary.\n",
        "    Time complexity: Because of the hash table, checking if a key is in a dictionary is, on average, O(1) time complexity (constant time). This means that the time it takes to check for a key is practically the same, regardless of how many key-value pairs are in the dictionary.\n",
        "    Implication: Dictionaries are much more efficient than lists for checking the presence of a specific key."
      ],
      "metadata": {
        "id": "e1NNK4oCzwzM"
      }
    },
    {
      "cell_type": "markdown",
      "source": [
        "15. Can you modify the elements of a tuple? Explain why or why not.\n"
      ],
      "metadata": {
        "id": "pzhd4tDzgb9T"
      }
    },
    {
      "cell_type": "markdown",
      "source": [
        "=> No, we can not modify the elements of tuple, because tuples are immutable in\n",
        "    nature"
      ],
      "metadata": {
        "id": "X0Rr6cbu0kGo"
      }
    },
    {
      "cell_type": "markdown",
      "source": [
        "16. What is a nested dictionary, and give an example of its use case?\n"
      ],
      "metadata": {
        "id": "qOAyV9o-ghMe"
      }
    },
    {
      "cell_type": "markdown",
      "source": [
        "=> Nesting Dictionary means putting a `dictionary` inside another `dictionary`."
      ],
      "metadata": {
        "id": "rrfSpa0y08fE"
      }
    },
    {
      "cell_type": "code",
      "source": [
        "# example of a Nested Dictionary\n",
        "Dict = {1: 'Geeks', 2: 'For', 3: {'A': 'Welcome', 'B': 'To', 'C': 'Geeks'}}\n"
      ],
      "metadata": {
        "id": "gA9OuTP51V5Z"
      },
      "execution_count": null,
      "outputs": []
    },
    {
      "cell_type": "markdown",
      "source": [
        "17. Describe the time complexity of accessing elements in a dictionary."
      ],
      "metadata": {
        "id": "0m3dalKigoGv"
      }
    },
    {
      "cell_type": "markdown",
      "source": [
        "=> `Dictionary` has a time complexity\n",
        "    of O (n) where n is the number of elements. Using the keys () or values () method to retrieve all keys or values takes O (n) time since it involves traversing the dictionary."
      ],
      "metadata": {
        "id": "aiO4f1s91sMA"
      }
    },
    {
      "cell_type": "markdown",
      "source": [
        "18. In what situations are lists preferred over dictionaries?\n"
      ],
      "metadata": {
        "id": "FP3aT9w8gu4l"
      }
    },
    {
      "cell_type": "markdown",
      "source": [
        "=> Situation were `lists` preferred over `Dicitionaries` are:\n",
        "\n",
        "  * Order matters.\n",
        "  * You need to access items by position.\n",
        "  * You may have duplicate elements.\n",
        "  * You need to perform simple iteration.\n",
        "  * There's no natural key associated with the data."
      ],
      "metadata": {
        "id": "a3DWTibe2FFd"
      }
    },
    {
      "cell_type": "markdown",
      "source": [
        "19. Why are dictionaries considered unordered, and how does that affect data retrieval ?\n"
      ],
      "metadata": {
        "id": "o8Q5ep_mg2eN"
      }
    },
    {
      "cell_type": "markdown",
      "source": [
        "=> A `dictionar` is often referred to as an unordered collection of objects\n",
        "    because the elements within a `dictionary` are not arranged in a specific order. In other words, the items in a `dictionary` do not have an inherent positional index like they do in a list or an array.\n",
        "\n",
        "   How it does affects data retrieval in these ways:\n",
        "\n",
        "  * No Retrieval by Position (Indexing):\n",
        "  * Key-Based Access Only:\n",
        "  * Unpredictable Iteration:\n",
        "  * Iteration Order :\n",
        "  * No Concept of \"First\" or \"Last\" Element:\n",
        "  * Data Retrieval Based on Key, Not Sequence:\n",
        ""
      ],
      "metadata": {
        "id": "CIre5zJd26Il"
      }
    },
    {
      "cell_type": "markdown",
      "source": [
        "20. Explain the difference between a list and a dictionary in terms of data retrieval"
      ],
      "metadata": {
        "id": "6BCi-zwng7mK"
      }
    },
    {
      "cell_type": "markdown",
      "source": [
        "=> In Python, both lists and dictionaries are built-in data structures used to\n",
        "    store collections of data.\n",
        "\n",
        "    Lists\n",
        "\n",
        "Lists are ordered collections of items that can be of different types. They are defined using square brackets `[]` and can be accessed using indices. Lists are mutable, meaning their elements can be changed after creation. They allow duplicate values and maintain the order of elements.\n",
        "\n",
        "    Dictionaries\n",
        "\n",
        "Dictionaries are collections of key-value pairs. They are defined using curly braces `{}`and can be accessed using keys. Dictionaries are also mutable, but they do not allow duplicate keys. The keys must be of an immutable data type, such as strings, numbers, or tuples."
      ],
      "metadata": {
        "id": "dVkAPcUg4muf"
      }
    },
    {
      "cell_type": "markdown",
      "source": [
        "#Practical Questions"
      ],
      "metadata": {
        "id": "oc4z-mYAhOZx"
      }
    },
    {
      "cell_type": "markdown",
      "source": [
        "1. Write a code to create a string with your name and print it."
      ],
      "metadata": {
        "id": "_XQ-v71ZhasZ"
      }
    },
    {
      "cell_type": "code",
      "source": [
        "#code for the above ques.\n",
        "def str1(my_name):\n",
        "  return f\"My name = {my_name}\"\n",
        "print(str1(\"Aryan Dhiman\"))"
      ],
      "metadata": {
        "colab": {
          "base_uri": "https://localhost:8080/"
        },
        "id": "Z0bdxKucnE42",
        "outputId": "c5223699-4f30-4096-9a69-dae6cb9b7989"
      },
      "execution_count": 60,
      "outputs": [
        {
          "output_type": "stream",
          "name": "stdout",
          "text": [
            "My name = Aryan Dhiman\n"
          ]
        }
      ]
    },
    {
      "cell_type": "markdown",
      "source": [
        "2. Write a code to find the length of the string \"Hello World\"."
      ],
      "metadata": {
        "id": "EvZMQFlzkg2b"
      }
    },
    {
      "cell_type": "code",
      "source": [
        "#code for the above ques.\n",
        "def str2(length):\n",
        "  return len(length)\n",
        "print(str2(\"Hello World\"))"
      ],
      "metadata": {
        "colab": {
          "base_uri": "https://localhost:8080/"
        },
        "id": "6ZmLmuHKnGGa",
        "outputId": "ee34c893-9ddb-4820-ed7d-b764145689fa"
      },
      "execution_count": 18,
      "outputs": [
        {
          "output_type": "stream",
          "name": "stdout",
          "text": [
            "11\n"
          ]
        }
      ]
    },
    {
      "cell_type": "markdown",
      "source": [
        "3. Write a code to slice the first 3 characters from the string \"Python Programming\"."
      ],
      "metadata": {
        "id": "894uEteokr1k"
      }
    },
    {
      "cell_type": "code",
      "source": [
        "#code for the above ques.\n",
        "def str3(slice):\n",
        "  return slice[0:3]\n",
        "print(str3(\"Python Programming\"))"
      ],
      "metadata": {
        "colab": {
          "base_uri": "https://localhost:8080/"
        },
        "id": "vhixmEIDnG-U",
        "outputId": "e704fa59-79ee-47ca-f051-81153b072e04"
      },
      "execution_count": 23,
      "outputs": [
        {
          "output_type": "stream",
          "name": "stdout",
          "text": [
            "Pyt\n"
          ]
        }
      ]
    },
    {
      "cell_type": "markdown",
      "source": [
        "4. Write a code to convert the string \"hello\" to uppercase."
      ],
      "metadata": {
        "id": "FaaiCve1kw4G"
      }
    },
    {
      "cell_type": "code",
      "source": [
        "#code for the above ques.\n",
        "def str4(convert):\n",
        "  return convert.upper()\n",
        "print(str4(\"hello\"))"
      ],
      "metadata": {
        "colab": {
          "base_uri": "https://localhost:8080/"
        },
        "id": "gs44aL-0nH0x",
        "outputId": "d3ffd465-850b-4cdc-dcd0-a1b90a724c32"
      },
      "execution_count": 24,
      "outputs": [
        {
          "output_type": "stream",
          "name": "stdout",
          "text": [
            "HELLO\n"
          ]
        }
      ]
    },
    {
      "cell_type": "markdown",
      "source": [
        "5. Write a code to replace the word \"apple\" with \"orange\" in the string \"I like apple\"."
      ],
      "metadata": {
        "id": "ZkI_arvBkz2X"
      }
    },
    {
      "cell_type": "code",
      "source": [
        "#code for the above ques.\n",
        "def str5(fruit_list):\n",
        "  return fruit_list.replace(\"apple\",\"orange\")\n",
        "print(str5(\"I like apple\"))"
      ],
      "metadata": {
        "colab": {
          "base_uri": "https://localhost:8080/"
        },
        "id": "riO3N9KVnI0z",
        "outputId": "a96c2812-db57-48fd-a181-ef9ca65b649f"
      },
      "execution_count": 25,
      "outputs": [
        {
          "output_type": "stream",
          "name": "stdout",
          "text": [
            "I like orange\n"
          ]
        }
      ]
    },
    {
      "cell_type": "markdown",
      "source": [
        "6. Write a code to create a list with numbers 1 to 5 and print it."
      ],
      "metadata": {
        "id": "akmolVCsk4cL"
      }
    },
    {
      "cell_type": "code",
      "source": [
        "#code for the above ques.\n",
        "def list1(num):\n",
        "  return num\n",
        "print(list1([1,2,3,4,5]))"
      ],
      "metadata": {
        "colab": {
          "base_uri": "https://localhost:8080/"
        },
        "id": "lclHCRtTnKF7",
        "outputId": "cdaa151b-872c-429c-c044-743ef068b2aa"
      },
      "execution_count": 26,
      "outputs": [
        {
          "output_type": "stream",
          "name": "stdout",
          "text": [
            "[1, 2, 3, 4, 5]\n"
          ]
        }
      ]
    },
    {
      "cell_type": "markdown",
      "source": [
        "7. Write a code to append the number 10 to the list [1, 2, 3, 4]."
      ],
      "metadata": {
        "id": "OVLeQa5XlBAP"
      }
    },
    {
      "cell_type": "code",
      "source": [
        "#code for the above ques.\n",
        "def list2(num):\n",
        "  num.append(10)\n",
        "  return num\n",
        "print(list2([1,2,3,4]))"
      ],
      "metadata": {
        "colab": {
          "base_uri": "https://localhost:8080/"
        },
        "id": "8gP47qC-nK8c",
        "outputId": "a684b3f3-3a5c-48ef-cb42-3c7f15cc98ca"
      },
      "execution_count": 27,
      "outputs": [
        {
          "output_type": "stream",
          "name": "stdout",
          "text": [
            "[1, 2, 3, 4, 10]\n"
          ]
        }
      ]
    },
    {
      "cell_type": "markdown",
      "source": [
        "8.  Write a code to remove the number 3 from the list [1, 2, 3, 4, 5].\n"
      ],
      "metadata": {
        "id": "sdkXe9eZlGuJ"
      }
    },
    {
      "cell_type": "code",
      "source": [
        "#code for the above ques.\n",
        "def list3(num):\n",
        "  num.remove(3)\n",
        "  return num\n",
        "print(list3([1,2,3,4,5]))"
      ],
      "metadata": {
        "id": "E4B9D9rjnL5s"
      },
      "execution_count": null,
      "outputs": []
    },
    {
      "cell_type": "markdown",
      "source": [
        "9. Write a code to access the second element in the list ['a', 'b', 'c', 'd']."
      ],
      "metadata": {
        "id": "5SAUPZ9IlNdr"
      }
    },
    {
      "cell_type": "code",
      "source": [
        "#code for the above ques.\n",
        "def list4(num):\n",
        "  return num[1]\n",
        "print(list4(['a', 'b', 'c', 'd']))"
      ],
      "metadata": {
        "colab": {
          "base_uri": "https://localhost:8080/"
        },
        "id": "h62cxf0fnMwG",
        "outputId": "4795e743-347e-4e3f-9be2-2c1a2568b8ab"
      },
      "execution_count": 28,
      "outputs": [
        {
          "output_type": "stream",
          "name": "stdout",
          "text": [
            "b\n"
          ]
        }
      ]
    },
    {
      "cell_type": "markdown",
      "source": [
        "10. Write a code to reverse the list [10, 20, 30, 40, 50]."
      ],
      "metadata": {
        "id": "Pmouk4oxlTe9"
      }
    },
    {
      "cell_type": "code",
      "source": [
        "#code for the above ques.\n",
        "def list5(num):\n",
        "  return num[::-1]\n",
        "print(list5([10, 20, 30, 40, 50]))"
      ],
      "metadata": {
        "colab": {
          "base_uri": "https://localhost:8080/"
        },
        "id": "CmChxTS5nNkB",
        "outputId": "3080aa64-ec60-41ac-ef86-aa7afec2c6b6"
      },
      "execution_count": 29,
      "outputs": [
        {
          "output_type": "stream",
          "name": "stdout",
          "text": [
            "[50, 40, 30, 20, 10]\n"
          ]
        }
      ]
    },
    {
      "cell_type": "markdown",
      "source": [
        "11.  Write a code to create a tuple with the elements 100, 200, 300 and print it.\n",
        "\n"
      ],
      "metadata": {
        "id": "Ls589F_TlWyh"
      }
    },
    {
      "cell_type": "code",
      "source": [
        "#code for the above ques.\n",
        "def tuple1(num):\n",
        "  return num\n",
        "print(tuple1((100,200,300)))"
      ],
      "metadata": {
        "colab": {
          "base_uri": "https://localhost:8080/"
        },
        "id": "LSA5AAglnPJ_",
        "outputId": "a8bea669-5f41-4ce9-ae01-843a67c64df9"
      },
      "execution_count": 30,
      "outputs": [
        {
          "output_type": "stream",
          "name": "stdout",
          "text": [
            "(100, 200, 300)\n"
          ]
        }
      ]
    },
    {
      "cell_type": "markdown",
      "source": [
        "12. Write a code to access the second-to-last element of the tuple ('red', 'green', 'blue', 'yellow').\n",
        "\n"
      ],
      "metadata": {
        "id": "HqDEBkqJljlS"
      }
    },
    {
      "cell_type": "code",
      "source": [
        "#code for the above ques.\n",
        "def tuple2(num):\n",
        "  return num[-2]\n",
        "print(tuple2(('red', 'green', 'blue', 'yellow')))"
      ],
      "metadata": {
        "colab": {
          "base_uri": "https://localhost:8080/"
        },
        "id": "8X81NGMYnQYp",
        "outputId": "32f731d1-0587-4884-aebb-3c6ee6c96b4f"
      },
      "execution_count": 31,
      "outputs": [
        {
          "output_type": "stream",
          "name": "stdout",
          "text": [
            "blue\n"
          ]
        }
      ]
    },
    {
      "cell_type": "markdown",
      "source": [
        "13. Write a code to find the minimum number in the tuple (10, 20, 5, 15).\n",
        "\n"
      ],
      "metadata": {
        "id": "JyFOZRwWlmXc"
      }
    },
    {
      "cell_type": "code",
      "source": [
        "#code for the above ques.\n",
        "def tuple3(num):\n",
        "  return min(num)\n",
        "print(tuple3((10, 20, 5, 15)))"
      ],
      "metadata": {
        "colab": {
          "base_uri": "https://localhost:8080/"
        },
        "id": "lhPelbQfnRBe",
        "outputId": "2a37b6ac-8333-4a8c-94fa-da788958c274"
      },
      "execution_count": 32,
      "outputs": [
        {
          "output_type": "stream",
          "name": "stdout",
          "text": [
            "5\n"
          ]
        }
      ]
    },
    {
      "cell_type": "markdown",
      "source": [
        "14. Write a code to find the index of the element \"cat\" in the tuple ('dog', 'cat', 'rabbit').\n",
        "\n"
      ],
      "metadata": {
        "id": "zJzI5guJlpW4"
      }
    },
    {
      "cell_type": "code",
      "source": [
        "#code for the above ques.\n",
        "def tuple4(num):\n",
        "  return num.index(\"cat\")\n",
        "print(tuple4(('dog', 'cat', 'rabbit')))"
      ],
      "metadata": {
        "colab": {
          "base_uri": "https://localhost:8080/"
        },
        "id": "AgpsO9Q-nSAS",
        "outputId": "0df52ff2-5b48-472e-a20f-7af4ab90d7b0"
      },
      "execution_count": 33,
      "outputs": [
        {
          "output_type": "stream",
          "name": "stdout",
          "text": [
            "1\n"
          ]
        }
      ]
    },
    {
      "cell_type": "markdown",
      "source": [
        "15. Write a code to create a tuple containing three different fruits and check if \"kiwi\" is in it.\n",
        "\n"
      ],
      "metadata": {
        "id": "Lbl1UY_TlsvD"
      }
    },
    {
      "cell_type": "code",
      "source": [
        "#code for the above ques.\n",
        "def tuple5(num):\n",
        "  if \"kiwi\" in num:\n",
        "    return True\n",
        "  else:\n",
        "    return False\n",
        "print(tuple5(('apple', 'banana', 'kiwi')))"
      ],
      "metadata": {
        "colab": {
          "base_uri": "https://localhost:8080/"
        },
        "id": "fYuJoDhInTdM",
        "outputId": "b44b5ad1-8d50-4f46-f390-b939f6e9986f"
      },
      "execution_count": 34,
      "outputs": [
        {
          "output_type": "stream",
          "name": "stdout",
          "text": [
            "True\n"
          ]
        }
      ]
    },
    {
      "cell_type": "markdown",
      "source": [
        "16. Write a code to create a set with the elements 'a', 'b', 'c' and print it.\n"
      ],
      "metadata": {
        "id": "inua5mg2lv35"
      }
    },
    {
      "cell_type": "code",
      "source": [
        "#code for the above ques.\n",
        "def set1(num):\n",
        "  return num\n",
        "print(set1({'a', 'b', 'c'}))"
      ],
      "metadata": {
        "colab": {
          "base_uri": "https://localhost:8080/"
        },
        "id": "alAAHo6lnUbF",
        "outputId": "6db80b65-f860-4a8d-e934-cec0949d3c4c"
      },
      "execution_count": 35,
      "outputs": [
        {
          "output_type": "stream",
          "name": "stdout",
          "text": [
            "{'c', 'b', 'a'}\n"
          ]
        }
      ]
    },
    {
      "cell_type": "markdown",
      "source": [
        "17. Write a code to clear all elements from the set {1, 2, 3, 4, 5}.\n",
        "\n"
      ],
      "metadata": {
        "id": "pvkwO3rvlzK5"
      }
    },
    {
      "cell_type": "code",
      "source": [
        "#code for the above ques.\n",
        "def set2(num):\n",
        "  num.clear()\n",
        "  return num\n",
        "print(set2({1, 2, 3, 4, 5}))"
      ],
      "metadata": {
        "colab": {
          "base_uri": "https://localhost:8080/"
        },
        "id": "Jg635RDrnVVn",
        "outputId": "bbb88d1a-7c75-438f-93f3-e105491a68b9"
      },
      "execution_count": 36,
      "outputs": [
        {
          "output_type": "stream",
          "name": "stdout",
          "text": [
            "set()\n"
          ]
        }
      ]
    },
    {
      "cell_type": "markdown",
      "source": [
        "18. Write a code to remove the element 4 from the set {1, 2, 3, 4}."
      ],
      "metadata": {
        "id": "4J9VDI2Ol2ET"
      }
    },
    {
      "cell_type": "code",
      "source": [
        "#code for the above ques.\n",
        "def set3(num):\n",
        "  num.remove(4)\n",
        "  return num\n",
        "print(set3({1, 2, 3, 4}))"
      ],
      "metadata": {
        "colab": {
          "base_uri": "https://localhost:8080/"
        },
        "id": "_Y38w9t7nWD1",
        "outputId": "58aff031-b073-4dab-c4b4-bc760c2e3e7f"
      },
      "execution_count": 37,
      "outputs": [
        {
          "output_type": "stream",
          "name": "stdout",
          "text": [
            "{1, 2, 3}\n"
          ]
        }
      ]
    },
    {
      "cell_type": "markdown",
      "source": [
        "19. Write a code to find the union of two sets {1, 2, 3} and {3, 4, 5}.\n",
        "\n"
      ],
      "metadata": {
        "id": "QVWtZ4agl5Yi"
      }
    },
    {
      "cell_type": "code",
      "source": [
        "#code for the above ques.\n",
        "def set4(num1,num2):\n",
        "  return num1.union(num2)\n",
        "print(set4({1, 2, 3}, {3, 4, 5}))"
      ],
      "metadata": {
        "colab": {
          "base_uri": "https://localhost:8080/"
        },
        "id": "VngBMPfgnd7v",
        "outputId": "774af327-4697-47c1-c4a2-c8bd3d1bc2d5"
      },
      "execution_count": 38,
      "outputs": [
        {
          "output_type": "stream",
          "name": "stdout",
          "text": [
            "{1, 2, 3, 4, 5}\n"
          ]
        }
      ]
    },
    {
      "cell_type": "markdown",
      "source": [
        "20. Write a code to find the intersection of two sets {1, 2, 3} and {2, 3, 4}."
      ],
      "metadata": {
        "id": "8Uq771Bdl8xV"
      }
    },
    {
      "cell_type": "code",
      "source": [
        "#code for the above ques.\n",
        "def set5(num1,num2):\n",
        "  return num1.intersection(num2)\n",
        "print(set5({1, 2, 3}, {2, 3, 4}))"
      ],
      "metadata": {
        "colab": {
          "base_uri": "https://localhost:8080/"
        },
        "id": "UXbYZ65BneyA",
        "outputId": "90347835-8dfb-4e77-c090-d3c80eea322f"
      },
      "execution_count": 39,
      "outputs": [
        {
          "output_type": "stream",
          "name": "stdout",
          "text": [
            "{2, 3}\n"
          ]
        }
      ]
    },
    {
      "cell_type": "markdown",
      "source": [
        "21. Write a code to create a dictionary with the keys \"name\", \"age\", and \"city\", and print it.\n",
        "\n"
      ],
      "metadata": {
        "id": "7E_OxswXl-Mr"
      }
    },
    {
      "cell_type": "code",
      "source": [
        "#code for the above ques.\n",
        "def dict1(num):\n",
        "  return num\n",
        "print(dict1({\"name\": \"John\", \"age\": 25, \"city\": \"New York\"}))"
      ],
      "metadata": {
        "colab": {
          "base_uri": "https://localhost:8080/"
        },
        "id": "cF16IIxcnfoR",
        "outputId": "8c19e787-aafc-4797-9b22-b656361dad78"
      },
      "execution_count": 40,
      "outputs": [
        {
          "output_type": "stream",
          "name": "stdout",
          "text": [
            "{'name': 'John', 'age': 25, 'city': 'New York'}\n"
          ]
        }
      ]
    },
    {
      "cell_type": "markdown",
      "source": [
        "22. Write a code to add a new key-value pair \"country\": \"USA\" to the dictionary {'name': 'John', 'age': 25}.\n",
        "\n"
      ],
      "metadata": {
        "id": "pZ0iqhPpmFC9"
      }
    },
    {
      "cell_type": "code",
      "source": [
        "#code for the above ques.\n",
        "def dict2(num):\n",
        "  num[\"country\"] = \"USA\"\n",
        "  return num\n",
        "print(dict2({'name': 'John', 'age': 25}))"
      ],
      "metadata": {
        "colab": {
          "base_uri": "https://localhost:8080/"
        },
        "id": "Pe2xo6ZZngYk",
        "outputId": "662c0380-39d6-44f0-9d3e-038ff84c3205"
      },
      "execution_count": 43,
      "outputs": [
        {
          "output_type": "stream",
          "name": "stdout",
          "text": [
            "{'name': 'John', 'age': 25, 'country': 'USA'}\n"
          ]
        }
      ]
    },
    {
      "cell_type": "markdown",
      "source": [
        "23. Write a code to access the value associated with the key \"name\" in the dictionary {'name': 'Alice', 'age': 30}.\n",
        "\n"
      ],
      "metadata": {
        "id": "BEXIgHlgmG7L"
      }
    },
    {
      "cell_type": "code",
      "source": [
        "#code for the above ques.\n",
        "def dict3(num):\n",
        "  return num[\"name\"]\n",
        "print(dict3({'name': 'Alice', 'age': 30}))"
      ],
      "metadata": {
        "colab": {
          "base_uri": "https://localhost:8080/"
        },
        "id": "qsMwrzl1nhF2",
        "outputId": "ab2d6f23-db8d-4a9d-c680-02637127096d"
      },
      "execution_count": 44,
      "outputs": [
        {
          "output_type": "stream",
          "name": "stdout",
          "text": [
            "Alice\n"
          ]
        }
      ]
    },
    {
      "cell_type": "markdown",
      "source": [
        "24. Write a code to remove the key \"age\" from the dictionary {'name': 'Bob', 'age': 22, 'city': 'New York'}.\n"
      ],
      "metadata": {
        "id": "2qlYkYPEmJvr"
      }
    },
    {
      "cell_type": "code",
      "source": [
        "#code for the above ques.\n",
        "def dict4(num):\n",
        "  del num[\"age\"]\n",
        "  return num\n",
        "print(dict4({'name': 'Bob', 'age': 22, 'city': 'New York'}))"
      ],
      "metadata": {
        "colab": {
          "base_uri": "https://localhost:8080/"
        },
        "id": "LlO4KRPcnhwD",
        "outputId": "3d109a79-3023-44c2-8fed-547f4ae5845c"
      },
      "execution_count": 45,
      "outputs": [
        {
          "output_type": "stream",
          "name": "stdout",
          "text": [
            "{'name': 'Bob', 'city': 'New York'}\n"
          ]
        }
      ]
    },
    {
      "cell_type": "markdown",
      "source": [
        "\n",
        "25. Write a code to check if the key \"city\" exists in the dictionary {'name': 'Alice', 'city': 'Paris'}.\n"
      ],
      "metadata": {
        "id": "ZtVYkcicmMG2"
      }
    },
    {
      "cell_type": "code",
      "source": [
        "#code for the above ques.\n",
        "def dict5(num):\n",
        "  if \"city\" in num:\n",
        "    return True\n",
        "  else:\n",
        "    return False\n",
        "print(dict5({'name': 'Alice', 'city': 'Paris'}))"
      ],
      "metadata": {
        "colab": {
          "base_uri": "https://localhost:8080/"
        },
        "id": "JWb6uHgVnikW",
        "outputId": "06d94987-91f5-4397-8f98-6bb5d7174968"
      },
      "execution_count": 46,
      "outputs": [
        {
          "output_type": "stream",
          "name": "stdout",
          "text": [
            "True\n"
          ]
        }
      ]
    },
    {
      "cell_type": "markdown",
      "source": [
        "\n",
        "26. Write a code to create a list, a tuple, and a dictionary, and print them all.\n"
      ],
      "metadata": {
        "id": "OofMY5htmOVP"
      }
    },
    {
      "cell_type": "code",
      "source": [
        "#code for the above ques.\n",
        "my_list = [1, 2, 3, \"apple\", \"orange\"]\n",
        "my_tuple = (100, 20, 69, \"red\", \"blue\")\n",
        "my_dictionary = {\n",
        "    \"name\": \"Aryan Dhiman\",\n",
        "    \"age\": 21,\n",
        "    \"city\": \"Himachal Pradesh\"\n",
        "}\n",
        "\n",
        "print(\"List:\", my_list)\n",
        "print(\"Tuple:\", my_tuple)\n",
        "print(\"Dictionary:\", my_dictionary)"
      ],
      "metadata": {
        "colab": {
          "base_uri": "https://localhost:8080/"
        },
        "id": "qlmM5GYKnjaM",
        "outputId": "76d5f95d-4135-4c8c-aebf-f41555526c61"
      },
      "execution_count": 62,
      "outputs": [
        {
          "output_type": "stream",
          "name": "stdout",
          "text": [
            "List: [1, 2, 3, 'apple', 'orange']\n",
            "Tuple: (100, 20, 69, 'red', 'blue')\n",
            "Dictionary: {'name': 'Aryan Dhiman', 'age': 21, 'city': 'Himachal Pradesh'}\n"
          ]
        }
      ]
    },
    {
      "cell_type": "markdown",
      "source": [
        "27. Write a code to create a list of 5 random numbers between 1 and 100, sort it in ascending order, and print the\n",
        "result.(replaced)\n"
      ],
      "metadata": {
        "id": "ICpfqvdumQTl"
      }
    },
    {
      "cell_type": "code",
      "source": [
        "#code for the above ques.\n",
        "import random\n",
        "def list1(num):\n",
        "  num.sort()\n",
        "  return num\n",
        "print(list1([random.randint(1,100) for i in range(5)]))"
      ],
      "metadata": {
        "colab": {
          "base_uri": "https://localhost:8080/"
        },
        "id": "KCmRb1K7nkHI",
        "outputId": "cf8633cb-c07a-4b22-e477-fae07bb0a16f"
      },
      "execution_count": 50,
      "outputs": [
        {
          "output_type": "stream",
          "name": "stdout",
          "text": [
            "[6, 34, 48, 52, 65]\n"
          ]
        }
      ]
    },
    {
      "cell_type": "markdown",
      "source": [
        "\n",
        "28. Write a code to create a list with strings and print the element at the third index.\n"
      ],
      "metadata": {
        "id": "zqW4juVgmU-y"
      }
    },
    {
      "cell_type": "code",
      "source": [
        "#code for the above ques.\n",
        "def list1(num):\n",
        "  return num[2]\n",
        "print(list1(['a', 'b', 'c', 'd']))"
      ],
      "metadata": {
        "colab": {
          "base_uri": "https://localhost:8080/"
        },
        "id": "47zjkzCZnkpQ",
        "outputId": "761ca26b-e406-40eb-a249-a3203f551e58"
      },
      "execution_count": 51,
      "outputs": [
        {
          "output_type": "stream",
          "name": "stdout",
          "text": [
            "c\n"
          ]
        }
      ]
    },
    {
      "cell_type": "markdown",
      "source": [
        "\n",
        "29. Write a code to combine two dictionaries into one and print the result.\n",
        "\n"
      ],
      "metadata": {
        "id": "52s7q39mmXGp"
      }
    },
    {
      "cell_type": "code",
      "source": [
        "#code for the above ques.\n",
        "def dict1(num1,num2):\n",
        "  num1.update(num2)\n",
        "  return num1\n",
        "print(dict1({'a': 1, 'b': 2}, {'c': 3, 'd': 4}))"
      ],
      "metadata": {
        "colab": {
          "base_uri": "https://localhost:8080/"
        },
        "id": "pl8ARri9nlef",
        "outputId": "68dc42e8-d492-4eeb-a11e-d0800824326c"
      },
      "execution_count": 52,
      "outputs": [
        {
          "output_type": "stream",
          "name": "stdout",
          "text": [
            "{'a': 1, 'b': 2, 'c': 3, 'd': 4}\n"
          ]
        }
      ]
    },
    {
      "cell_type": "markdown",
      "source": [
        "30. Write a code to convert a list of strings into a set."
      ],
      "metadata": {
        "id": "jpk27ZS1mZ2w"
      }
    },
    {
      "cell_type": "code",
      "source": [
        "#code for the above ques.\n",
        "def set1(num):\n",
        "  return set(num)\n",
        "print(set1(['a', 'b', 'c', 'd']))"
      ],
      "metadata": {
        "colab": {
          "base_uri": "https://localhost:8080/"
        },
        "id": "yCxsdB-Gmbz5",
        "outputId": "23ca9894-409d-4a5b-a174-351d64885bdb"
      },
      "execution_count": 53,
      "outputs": [
        {
          "output_type": "stream",
          "name": "stdout",
          "text": [
            "{'d', 'c', 'b', 'a'}\n"
          ]
        }
      ]
    }
  ]
}